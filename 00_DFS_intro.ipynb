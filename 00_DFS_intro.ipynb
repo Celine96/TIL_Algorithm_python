{
 "cells": [
  {
   "cell_type": "markdown",
   "id": "bb631b05",
   "metadata": {},
   "source": [
    "### 회의실 문제"
   ]
  },
  {
   "cell_type": "code",
   "execution_count": 9,
   "id": "7440e437",
   "metadata": {},
   "outputs": [],
   "source": [
    "meetings = [\n",
    "    (1, 6)\n",
    "    ,(3, 8)\n",
    "    ,(8, 9)\n",
    "    ,(2, 4)\n",
    "    ,(4, 6)\n",
    "    ,(7, 9) ]"
   ]
  },
  {
   "cell_type": "code",
   "execution_count": 11,
   "id": "997080cf",
   "metadata": {},
   "outputs": [],
   "source": [
    "meetings.sort(key= lambda x: (x[1]))"
   ]
  },
  {
   "cell_type": "code",
   "execution_count": 15,
   "id": "8dcec0a8",
   "metadata": {},
   "outputs": [
    {
     "data": {
      "text/plain": [
       "[(2, 4), (1, 6), (4, 6), (3, 8), (8, 9), (7, 9)]"
      ]
     },
     "execution_count": 15,
     "metadata": {},
     "output_type": "execute_result"
    }
   ],
   "source": [
    "meetings"
   ]
  },
  {
   "cell_type": "code",
   "execution_count": 21,
   "id": "7387c45f",
   "metadata": {},
   "outputs": [
    {
     "name": "stdout",
     "output_type": "stream",
     "text": [
      "3\n"
     ]
    }
   ],
   "source": [
    "cnt=0\n",
    "now = - 1\n",
    "for i in range(len(meetings)):\n",
    "    a_meet = meetings[i] # tuple -> a_meet[0] : 시작 , a_meet[1] : 끝\n",
    "    # 1. now vs a_meet[0]\n",
    "    \n",
    "    if now <= a_meet[0]: #시작\n",
    "        \n",
    "    # 2. 선택 cnt\n",
    "        cnt+=1\n",
    "    \n",
    "    # 3. now = a_meet 끝\n",
    "        now = a_meet[1] \n",
    "print(cnt)"
   ]
  },
  {
   "cell_type": "markdown",
   "id": "d0b3ee9b",
   "metadata": {},
   "source": [
    "### 그래프"
   ]
  },
  {
   "cell_type": "code",
   "execution_count": 2,
   "id": "fccd7f35",
   "metadata": {},
   "outputs": [],
   "source": [
    "#graph\n",
    "#각 노드가 받는 엣지 갯수구하기\n",
    "\n",
    "matrix=[ [0,1,1,1]\n",
    "        ,[0,0,1,0]\n",
    "        ,[0,0,0,0]\n",
    "        ,[0,1,1,0]]"
   ]
  },
  {
   "cell_type": "code",
   "execution_count": 25,
   "id": "6bbf2815",
   "metadata": {},
   "outputs": [
    {
     "name": "stdout",
     "output_type": "stream",
     "text": [
      "[0, 2, 3, 1]\n"
     ]
    }
   ],
   "source": [
    "sum=[]\n",
    "for to in range(4):\n",
    "    # 각 to 별로 \n",
    "    cnt=0\n",
    "    for from_ in range(4):\n",
    "        cnt+=matrix[from_][to]\n",
    "    sum.append(cnt)\n",
    "        \n",
    "print(sum)"
   ]
  },
  {
   "cell_type": "code",
   "execution_count": 28,
   "id": "38929754",
   "metadata": {},
   "outputs": [
    {
     "data": {
      "text/plain": [
       "2"
      ]
     },
     "execution_count": 28,
     "metadata": {},
     "output_type": "execute_result"
    }
   ],
   "source": [
    "#가장 많은 선택을 받은 vertex \n",
    "max_cnt = int(-1e9)\n",
    "max_index=-1\n",
    "for i in range(4):\n",
    "    if sum[i]>max_cnt:\n",
    "        max_cnt=sum[i]\n",
    "        max_index=i #내가 놓친거\n",
    "        \n",
    "print(max_cnt)\n",
    "print(max_index)"
   ]
  },
  {
   "cell_type": "code",
   "execution_count": 27,
   "id": "39307094",
   "metadata": {},
   "outputs": [
    {
     "name": "stdout",
     "output_type": "stream",
     "text": [
      "3\n"
     ]
    }
   ],
   "source": [
    "a = -1\n",
    "for i in range(10): \n",
    "    if i == 3: \n",
    "        a = i \n",
    "        \n",
    "print(a)"
   ]
  },
  {
   "cell_type": "code",
   "execution_count": 30,
   "id": "c90b32bd",
   "metadata": {},
   "outputs": [
    {
     "data": {
      "text/plain": [
       "[0, 2, 3, 1]"
      ]
     },
     "execution_count": 30,
     "metadata": {},
     "output_type": "execute_result"
    }
   ],
   "source": [
    "sum"
   ]
  },
  {
   "cell_type": "code",
   "execution_count": 33,
   "id": "4375564f",
   "metadata": {},
   "outputs": [
    {
     "name": "stdout",
     "output_type": "stream",
     "text": [
      "0 0\n"
     ]
    }
   ],
   "source": [
    "#가장 적은 선택을 받은 vertex\n",
    "\n",
    "min_cnt = int(1e9)\n",
    "min_index = -1\n",
    "\n",
    "for i in range(4):\n",
    "    if min_cnt>sum[i]:\n",
    "        min_cnt=sum[i]\n",
    "        min_index=i\n",
    "    \n",
    "print(min_index , min_cnt)"
   ]
  },
  {
   "cell_type": "code",
   "execution_count": 34,
   "id": "2851ec73",
   "metadata": {},
   "outputs": [
    {
     "data": {
      "text/plain": [
       "[[0, 0, 0, 0, 0, 0],\n",
       " [0, 0, 0, 0, 0, 0],\n",
       " [0, 0, 0, 0, 0, 0],\n",
       " [0, 0, 0, 0, 0, 0],\n",
       " [0, 0, 0, 0, 0, 0],\n",
       " [0, 0, 0, 0, 0, 0]]"
      ]
     },
     "execution_count": 34,
     "metadata": {},
     "output_type": "execute_result"
    }
   ],
   "source": [
    "#matrix 하드코딩\n",
    "\n",
    "matrix = [[0 for _ in range(6)] for _ in range(6)]\n",
    "matrix"
   ]
  },
  {
   "cell_type": "code",
   "execution_count": 35,
   "id": "25c6a2a0",
   "metadata": {},
   "outputs": [
    {
     "data": {
      "text/plain": [
       "[[0, 0, 0, 0, 0, 0],\n",
       " [0, 0, 0, 0, 1, 0],\n",
       " [1, 0, 0, 0, 0, 1],\n",
       " [0, 1, 1, 0, 0, 0],\n",
       " [0, 0, 0, 0, 0, 0],\n",
       " [0, 0, 0, 0, 0, 0]]"
      ]
     },
     "execution_count": 35,
     "metadata": {},
     "output_type": "execute_result"
    }
   ],
   "source": [
    "matrix[3][2] = 1\n",
    "matrix[3][1] = 1\n",
    "matrix[2][0] = 1\n",
    "matrix[2][5] = 1\n",
    "matrix[1][4] = 1\n",
    "matrix"
   ]
  },
  {
   "cell_type": "code",
   "execution_count": 36,
   "id": "ff112033",
   "metadata": {},
   "outputs": [
    {
     "name": "stdout",
     "output_type": "stream",
     "text": [
      "1\n",
      "2\n"
     ]
    }
   ],
   "source": [
    "for to in range(4):\n",
    "    if matrix[3][to] == 1:\n",
    "        print(to)"
   ]
  },
  {
   "cell_type": "code",
   "execution_count": 44,
   "id": "17729551",
   "metadata": {},
   "outputs": [
    {
     "name": "stdout",
     "output_type": "stream",
     "text": [
      "\n",
      "1 의 next는  4\n",
      "\n",
      "2 의 next는  0\n",
      "2 의 next는  5\n",
      "\n",
      "3 의 next는  1\n",
      "3 의 next는  2\n",
      "\n",
      "\n",
      "\n"
     ]
    }
   ],
   "source": [
    "for from_ in range(6):\n",
    "    for to in range(6):\n",
    "        if matrix[from_][to]==1:\n",
    "            print(from_, \"의 next는 \" ,to, end='\\n')\n",
    "    print()"
   ]
  },
  {
   "cell_type": "markdown",
   "id": "7450d009",
   "metadata": {},
   "source": [
    "### dfs (깊이 우선 탐색)"
   ]
  },
  {
   "cell_type": "code",
   "execution_count": 45,
   "id": "e16fba10",
   "metadata": {},
   "outputs": [
    {
     "data": {
      "text/plain": [
       "[[0, 0, 0, 0, 0, 0],\n",
       " [0, 0, 0, 0, 0, 0],\n",
       " [0, 0, 0, 0, 0, 0],\n",
       " [0, 0, 0, 0, 0, 0],\n",
       " [0, 0, 0, 0, 0, 0],\n",
       " [0, 0, 0, 0, 0, 0]]"
      ]
     },
     "execution_count": 45,
     "metadata": {},
     "output_type": "execute_result"
    }
   ],
   "source": [
    "matrix = [[0 for _ in range(6)] for _ in range(6)]\n",
    "matrix"
   ]
  },
  {
   "cell_type": "code",
   "execution_count": 53,
   "id": "e36647b7",
   "metadata": {},
   "outputs": [],
   "source": [
    "matrix[0][2]=1\n",
    "matrix[0][3]=1\n",
    "matrix[2][4]=1\n",
    "matrix[3][1]=1\n",
    "matrix[3][5]=1"
   ]
  },
  {
   "cell_type": "code",
   "execution_count": 59,
   "id": "3276d7d5",
   "metadata": {},
   "outputs": [],
   "source": [
    "cnt =  0 \n",
    "def dfs(now):\n",
    "    global cnt\n",
    "    cnt += 1\n",
    "    \n",
    "    for to in range(6):\n",
    "        if matrix[now][to]==1:\n",
    "            dfs(to)"
   ]
  },
  {
   "cell_type": "code",
   "execution_count": 63,
   "id": "6f8e9f1e",
   "metadata": {},
   "outputs": [
    {
     "name": "stdout",
     "output_type": "stream",
     "text": [
      "2\n"
     ]
    }
   ],
   "source": [
    "cnt = 0\n",
    "dfs(2)\n",
    "print(cnt)"
   ]
  },
  {
   "cell_type": "code",
   "execution_count": 66,
   "id": "37a78fcc",
   "metadata": {},
   "outputs": [
    {
     "name": "stdout",
     "output_type": "stream",
     "text": [
      "0 5\n"
     ]
    }
   ],
   "source": [
    "a, b = map(int, input().split())\n"
   ]
  },
  {
   "cell_type": "code",
   "execution_count": 69,
   "id": "4149a65a",
   "metadata": {},
   "outputs": [],
   "source": [
    "flag = 0 \n",
    "def dfs(now,end):\n",
    "    if now == end :# dfs(5,5)\n",
    "        flag = 1\n",
    "    for to in range(6):\n",
    "        if matrix[now][to]==1:\n",
    "            dfs(to,end)\n",
    "        "
   ]
  },
  {
   "cell_type": "code",
   "execution_count": 70,
   "id": "5703873d",
   "metadata": {},
   "outputs": [],
   "source": [
    "dfs(0,5)"
   ]
  },
  {
   "cell_type": "code",
   "execution_count": null,
   "id": "cdbd7020",
   "metadata": {},
   "outputs": [],
   "source": []
  }
 ],
 "metadata": {
  "kernelspec": {
   "display_name": "Python 3 (ipykernel)",
   "language": "python",
   "name": "python3"
  },
  "language_info": {
   "codemirror_mode": {
    "name": "ipython",
    "version": 3
   },
   "file_extension": ".py",
   "mimetype": "text/x-python",
   "name": "python",
   "nbconvert_exporter": "python",
   "pygments_lexer": "ipython3",
   "version": "3.9.12"
  }
 },
 "nbformat": 4,
 "nbformat_minor": 5
}
