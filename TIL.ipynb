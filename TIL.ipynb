{
 "cells": [
  {
   "cell_type": "code",
   "execution_count": 1,
   "metadata": {
    "scrolled": true
   },
   "outputs": [
    {
     "name": "stdout",
     "output_type": "stream",
     "text": [
      "1:3\n",
      "2:1\n",
      "3:3\n",
      "4:1\n"
     ]
    }
   ],
   "source": [
    "#다중 반복문\n",
    "\n",
    "##탐색-flag변수\n",
    "###1번 arr에 타겟의 원소가 몇번씩 등장하는지 카운트해라\n",
    "\n",
    "target = [1,2,3,4]\n",
    "arr=[3,3,1,2,3,1,1,4]\n",
    "\n",
    "for tar in [1,2,3,4]:\n",
    "    cnt=0 #cnt는 tar이 새로 바뀔때마나 renew되야하니 여기에 초기화\n",
    "    for i in range(len(arr)):\n",
    "        if tar==arr[i]:\n",
    "            cnt+=1\n",
    "    print(f'{tar}:{cnt}')\n"
   ]
  },
  {
   "cell_type": "markdown",
   "metadata": {},
   "source": [
    "- 두 배열의 원소를 탐색해야할땐, `이중for문-시침 분침 컨샙`과 `cnt 플래그변수를 사용한다는 것` \n",
    "- for문의 변수는 두가지 기능 1.인덱스 2.iteration되는 변수값"
   ]
  },
  {
   "cell_type": "code",
   "execution_count": 5,
   "metadata": {},
   "outputs": [
    {
     "name": "stdout",
     "output_type": "stream",
     "text": [
      "1:3\n",
      "2:2\n",
      "3:4\n",
      "4:3\n"
     ]
    }
   ],
   "source": [
    "###2번 arr배열에서 타겟의 원소가 얼마나 등장하는지 카운트하여라\n",
    "###다차원배열에서의 탐색\n",
    "\n",
    "arr=[\n",
    "    [3,3,2,1],\n",
    "    [4,3,2,1],\n",
    "    [4,4,3,1]\n",
    "]\n",
    "\n",
    "tar=[1,2,3,4]\n",
    "\n",
    "for tar in [1,2,3,4]:\n",
    "    cnt=0\n",
    "    for row in [0,1,2]:\n",
    "        for col in [0,1,2,3]:\n",
    "            if tar==arr[row][col]:\n",
    "                cnt+=1\n",
    "    print(f'{tar}:{cnt}')"
   ]
  },
  {
   "cell_type": "code",
   "execution_count": 7,
   "metadata": {},
   "outputs": [
    {
     "name": "stdout",
     "output_type": "stream",
     "text": [
      "않동일\n"
     ]
    }
   ],
   "source": [
    "##연속부분수열\n",
    "###3\n",
    "\n",
    "arr1=[1,2,7,8]\n",
    "arr2=[1,2,8,8]\n",
    "\n",
    "flag=0\n",
    "for i in range(len(arr1)):\n",
    "    if arr1[i]!=arr2[i]: #일대일로 원소비교\n",
    "        flag=1\n",
    "\n",
    "if flag==1:\n",
    "    print('않동일')\n",
    "else:\n",
    "    print('동일')\n",
    "    "
   ]
  },
  {
   "cell_type": "code",
   "execution_count": 4,
   "metadata": {},
   "outputs": [
    {
     "name": "stdout",
     "output_type": "stream",
     "text": [
      "연속 부분 수열 존재\n"
     ]
    }
   ],
   "source": [
    "###4 연속부분 수열 찾기 (내풀이)\n",
    "\n",
    "arr=[1,2,3,7,6,8,9]\n",
    "#n-2 n-1 n\n",
    "tar=[3,7,6]\n",
    "arr_sum=[]\n",
    "\n",
    "for i in range(len(arr)-2):\n",
    "    temp=arr[i:i+3] #i, i+1, i+2\n",
    "    #print(temp)\n",
    "    for i in [0,1,2]:\n",
    "        if temp[i]==tar[i]:\n",
    "            arr_sum.append(1)\n",
    "\n",
    "if sum(arr_sum)==3:\n",
    "    print('연속 부분 수열 존재')\n",
    "            "
   ]
  },
  {
   "cell_type": "markdown",
   "metadata": {},
   "source": [
    "위의 풀이는 flag변수를 사용하지 않았기 때문에 아래와 같이 정정당함"
   ]
  },
  {
   "cell_type": "code",
   "execution_count": null,
   "metadata": {},
   "outputs": [],
   "source": [
    "###4 연속부분 수열 센세 풀이(문제 약간 변경)\n",
    "\n",
    "arr1 = [1,2,3,7,6,8,9,3,3,6,7,4,3,7,6]\n",
    "n = len(arr1) # n은 배열의 크기\n",
    "\n",
    "patter=[3,7,6]\n",
    "\n",
    "# 부분수열 뽑아서 pattern 과 비교     ( [n-3][n-2][n-1] 이 마지막 검사 )\n",
    "for i in range(0,len(arr1)):\n",
    "    if i+2>=n: #i+2가 n을 넘어가면 멈춰랏 \n",
    "        break\n",
    "    sub_arr=arr1[i:i+3] #i,i+1,i+2\n",
    "    \n",
    "    flag=0\n",
    "    \n",
    "    for i in range(3):\n",
    "        if sub_arr[i]!=pattern[i]:\n",
    "            flag=1 #다르면 flag=1\n",
    "    if flag==0:\n",
    "        print('일치!')\n",
    "            "
   ]
  },
  {
   "cell_type": "code",
   "execution_count": null,
   "metadata": {},
   "outputs": [],
   "source": []
  },
  {
   "cell_type": "code",
   "execution_count": null,
   "metadata": {},
   "outputs": [],
   "source": []
  },
  {
   "cell_type": "code",
   "execution_count": null,
   "metadata": {},
   "outputs": [],
   "source": []
  }
 ],
 "metadata": {
  "kernelspec": {
   "display_name": "Python 3",
   "language": "python",
   "name": "python3"
  },
  "language_info": {
   "codemirror_mode": {
    "name": "ipython",
    "version": 3
   },
   "file_extension": ".py",
   "mimetype": "text/x-python",
   "name": "python",
   "nbconvert_exporter": "python",
   "pygments_lexer": "ipython3",
   "version": "3.7.4"
  }
 },
 "nbformat": 4,
 "nbformat_minor": 4
}
