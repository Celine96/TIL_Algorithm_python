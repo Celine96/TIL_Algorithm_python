{
 "cells": [
  {
   "cell_type": "code",
   "execution_count": 1,
   "metadata": {
    "scrolled": true
   },
   "outputs": [
    {
     "name": "stdout",
     "output_type": "stream",
     "text": [
      "1:3\n",
      "2:1\n",
      "3:3\n",
      "4:1\n"
     ]
    }
   ],
   "source": [
    "#다중 반복문\n",
    "\n",
    "##탐색-flag변수\n",
    "###1번 arr에 타겟의 원소가 몇번씩 등장하는지 카운트해라\n",
    "\n",
    "target = [1,2,3,4]\n",
    "arr=[3,3,1,2,3,1,1,4]\n",
    "\n",
    "for tar in [1,2,3,4]:\n",
    "    cnt=0 #cnt는 tar이 새로 바뀔때마나 renew되야하니 여기에 초기화\n",
    "    for i in range(len(arr)):\n",
    "        if tar==arr[i]:\n",
    "            cnt+=1\n",
    "    print(f'{tar}:{cnt}')\n"
   ]
  },
  {
   "cell_type": "markdown",
   "metadata": {},
   "source": [
    "- 두 배열의 원소를 탐색해야할땐, `이중for문-시침 분침 컨샙`과 `cnt 플래그변수를 사용한다는 것` \n",
    "- for문의 변수는 두가지 기능 1.인덱스 2.iteration되는 변수값"
   ]
  },
  {
   "cell_type": "code",
   "execution_count": 5,
   "metadata": {},
   "outputs": [
    {
     "name": "stdout",
     "output_type": "stream",
     "text": [
      "1:3\n",
      "2:2\n",
      "3:4\n",
      "4:3\n"
     ]
    }
   ],
   "source": [
    "###2번 arr배열에서 타겟의 원소가 얼마나 등장하는지 카운트하여라\n",
    "###다차원배열에서의 탐색\n",
    "\n",
    "arr=[\n",
    "    [3,3,2,1],\n",
    "    [4,3,2,1],\n",
    "    [4,4,3,1]\n",
    "]\n",
    "\n",
    "tar=[1,2,3,4]\n",
    "\n",
    "for tar in [1,2,3,4]:\n",
    "    cnt=0\n",
    "    for row in [0,1,2]:\n",
    "        for col in [0,1,2,3]:\n",
    "            if tar==arr[row][col]:\n",
    "                cnt+=1\n",
    "    print(f'{tar}:{cnt}')"
   ]
  },
  {
   "cell_type": "code",
   "execution_count": 7,
   "metadata": {},
   "outputs": [
    {
     "name": "stdout",
     "output_type": "stream",
     "text": [
      "않동일\n"
     ]
    }
   ],
   "source": [
    "##연속부분수열\n",
    "###3\n",
    "\n",
    "arr1=[1,2,7,8]\n",
    "arr2=[1,2,8,8]\n",
    "\n",
    "flag=0\n",
    "for i in range(len(arr1)):\n",
    "    if arr1[i]!=arr2[i]: #일대일로 원소비교\n",
    "        flag=1\n",
    "\n",
    "if flag==1:\n",
    "    print('않동일')\n",
    "else:\n",
    "    print('동일')\n",
    "    "
   ]
  },
  {
   "cell_type": "code",
   "execution_count": 4,
   "metadata": {},
   "outputs": [
    {
     "name": "stdout",
     "output_type": "stream",
     "text": [
      "연속 부분 수열 존재\n"
     ]
    }
   ],
   "source": [
    "###4 연속부분 수열 찾기 (내풀이)\n",
    "\n",
    "arr=[1,2,3,7,6,8,9]\n",
    "#n-2 n-1 n\n",
    "tar=[3,7,6]\n",
    "arr_sum=[]\n",
    "\n",
    "for i in range(len(arr)-2):\n",
    "    temp=arr[i:i+3] #i, i+1, i+2\n",
    "    #print(temp)\n",
    "    for i in [0,1,2]:\n",
    "        if temp[i]==tar[i]:\n",
    "            arr_sum.append(1)\n",
    "\n",
    "if sum(arr_sum)==3:\n",
    "    print('연속 부분 수열 존재')\n",
    "            "
   ]
  },
  {
   "cell_type": "markdown",
   "metadata": {},
   "source": [
    "위의 풀이는 flag변수를 사용하지 않았기 때문에 아래와 같이 정정당함"
   ]
  },
  {
   "cell_type": "code",
   "execution_count": null,
   "metadata": {},
   "outputs": [],
   "source": [
    "###4 연속부분 수열 센세 풀이(문제 약간 변경)\n",
    "\n",
    "arr1 = [1,2,3,7,6,8,9,3,3,6,7,4,3,7,6]\n",
    "n = len(arr1) # n은 배열의 크기\n",
    "\n",
    "patter=[3,7,6]\n",
    "\n",
    "# 부분수열 뽑아서 pattern 과 비교     ( [n-3][n-2][n-1] 이 마지막 검사 )\n",
    "for i in range(0,len(arr1)):\n",
    "    if i+2>=n: #i+2가 n을 넘어가면 멈춰랏 \n",
    "        break\n",
    "    sub_arr=arr1[i:i+3] #i,i+1,i+2\n",
    "    \n",
    "    flag=0\n",
    "    \n",
    "    for i in range(3):\n",
    "        if sub_arr[i]!=pattern[i]:\n",
    "            flag=1 #다르면 flag=1\n",
    "    if flag==0:\n",
    "        print('일치!')\n",
    "            "
   ]
  },
  {
   "cell_type": "code",
   "execution_count": 1,
   "metadata": {},
   "outputs": [
    {
     "name": "stdout",
     "output_type": "stream",
     "text": [
      "###@@@"
     ]
    }
   ],
   "source": [
    "#수업\n",
    "def abc(x):\n",
    "    if x == 3:\n",
    "        return # 기저조건, 탈출조건\n",
    "    else:\n",
    "        print(\"#\",end='')\n",
    "        abc(x + 1) # 갔다온다.\n",
    "        print(\"@\",end='')\n",
    "        return\n",
    "\n",
    "abc(0)\n"
   ]
  },
  {
   "cell_type": "code",
   "execution_count": 2,
   "metadata": {},
   "outputs": [
    {
     "name": "stdout",
     "output_type": "stream",
     "text": [
      "012210"
     ]
    }
   ],
   "source": [
    "def abc(x):\n",
    "    if x==3:\n",
    "        return\n",
    "    else:\n",
    "        print(x, end='')\n",
    "        abc(x+1)\n",
    "        print(x, end='')\n",
    "        return\n",
    "\n",
    "abc(0)\n"
   ]
  },
  {
   "cell_type": "code",
   "execution_count": 3,
   "metadata": {},
   "outputs": [
    {
     "name": "stdout",
     "output_type": "stream",
     "text": [
      "# # @ # @ @ "
     ]
    }
   ],
   "source": [
    "def abc(x):\n",
    "    if x==2:\n",
    "        return\n",
    "    else:\n",
    "        print(\"#\",end = ' ')\n",
    "        abc(x+1)\n",
    "        abc(x+1)\n",
    "        print(\"@\",end =' ')\n",
    "        return\n",
    "\n",
    "\n",
    "abc(0)\n"
   ]
  },
  {
   "cell_type": "code",
   "execution_count": null,
   "metadata": {},
   "outputs": [],
   "source": [
    "# 재귀함수\n",
    "def abc(x):\n",
    "    if x==3:\n",
    "        return #탈출\n",
    "    else:\n",
    "        print()"
   ]
  },
  {
   "cell_type": "markdown",
   "metadata": {},
   "source": [
    "## 숙제 (재귀함수) - 220116"
   ]
  },
  {
   "cell_type": "markdown",
   "metadata": {},
   "source": [
    "```\n",
    "#1번\n",
    "숫자 a,b 두개를 입력받아 재귀호출을 이용해 다음과 같이 출력해주세요 \n",
    "a....b....a\n",
    "예를들어 3 9 를 입력 받으면 \n",
    "3 4 5 6 7 8 9 8 7 6 5 4 3 이 출력되고 \n",
    "\n",
    "2 5를 입력 받으면 \n",
    "2 3 4 5 4 3 2 가 출력됩니다.```"
   ]
  },
  {
   "cell_type": "code",
   "execution_count": 1,
   "metadata": {},
   "outputs": [
    {
     "name": "stdout",
     "output_type": "stream",
     "text": [
      "2 3 4 5 4 3 2 "
     ]
    }
   ],
   "source": [
    "def abc(a):\n",
    "    if a==5:\n",
    "        print(a, end=' ')\n",
    "        return\n",
    "    else:\n",
    "        print(a, end=' ')\n",
    "        abc(a+1)\n",
    "        print(a, end=' ')\n",
    "        return\n",
    "\n",
    "abc(2)"
   ]
  },
  {
   "cell_type": "code",
   "execution_count": null,
   "metadata": {},
   "outputs": [],
   "source": [
    "def abc(a):\n",
    "    if a==b:\n",
    "        print(a, end=' ')\n",
    "        return\n",
    "    else:\n",
    "        print(a, end=' ')\n",
    "        abc(a+1)\n",
    "        print(a, end=' ')\n",
    "        return\n",
    "\n",
    "a,b = map(int, input().split())\n",
    "abc(2)"
   ]
  },
  {
   "cell_type": "code",
   "execution_count": null,
   "metadata": {},
   "outputs": [],
   "source": [
    "#이걸 일반화 한다면?\n",
    "\n",
    "def abc2(a,b):\n",
    "    if a==b:\n",
    "        print(a, end=' ')\n",
    "        return\n",
    "    else:\n",
    "        print(a, end=' ')\n",
    "        abc(a+1)\n",
    "        print(a, end=' ')\n",
    "        return\n",
    "\n",
    "a=int(input())\n",
    "b=int(input())\n",
    "\n",
    "abc(a,b)"
   ]
  },
  {
   "cell_type": "markdown",
   "metadata": {},
   "source": [
    "2/\n",
    "문자 하나를 입력받고 재귀호출을 이용해 다음 예시처럼 출력해주세요\n",
    "\n",
    "입력 : 재귀호출\n",
    "출력 : \n",
    "재귀호출\n",
    "출호귀재\n",
    "\n",
    "입력 : abcde\n",
    "출력 :\n",
    "abcde\n",
    "edcba"
   ]
  },
  {
   "cell_type": "code",
   "execution_count": 5,
   "metadata": {},
   "outputs": [
    {
     "name": "stdout",
     "output_type": "stream",
     "text": [
      "abcde\n",
      "edcba"
     ]
    }
   ],
   "source": [
    "#2 증감하는 건 문자열의 인덱스\n",
    "word = 'abcde'\n",
    "def abc(word,i):\n",
    "    if i==len(word)-1:\n",
    "        print(word[i], end='')\n",
    "        print()\n",
    "        print(word[i], end='')\n",
    "        return\n",
    "    else:\n",
    "        print(word[i], end='')\n",
    "        abc(word, i+1)\n",
    "        print(word[i],end='')\n",
    "        return\n",
    "\n",
    "\n",
    "abc(word,0)\n"
   ]
  },
  {
   "cell_type": "code",
   "execution_count": 8,
   "metadata": {},
   "outputs": [
    {
     "name": "stdout",
     "output_type": "stream",
     "text": [
      "abcde\n",
      "eedcba"
     ]
    }
   ],
   "source": [
    "#2 증감하는 건 문자열의 인덱스 (추가 답 참고)\n",
    "word = 'abcde'\n",
    "def abc(word,i):\n",
    "    if i==len(word):\n",
    "        print()\n",
    "        return\n",
    "    else:\n",
    "        print(word[i], end='')\n",
    "        abc(word, i+1)\n",
    "        print(word[i],end='')\n",
    "        return\n",
    "\n",
    "de=-1\n",
    "abc(word,0)"
   ]
  },
  {
   "cell_type": "markdown",
   "metadata": {},
   "source": [
    "3/\n",
    "[3,7,4,1,9,4,6,2] 배열을 하드코딩후 \n",
    "index 하나를 입력받아주세요 \n",
    "입력받은 index 부터 0번 index까지 출력한 후 \n",
    "0번 index 부터 입력받은 index까지 다시 출력하는 프로그램을 재귀호출로 작성해주세요\n",
    "\n",
    "입력 3\n",
    "출력 1 4 7 3 3 7 4 1\n",
    "\n",
    "입력 4\n",
    "9 1 4 7 3 3 7 4 1 9"
   ]
  },
  {
   "cell_type": "code",
   "execution_count": 12,
   "metadata": {},
   "outputs": [
    {
     "name": "stdout",
     "output_type": "stream",
     "text": [
      "14733741"
     ]
    }
   ],
   "source": [
    "#3 배열 재귀함수\n",
    "\n",
    "\n",
    "def abc(arr,i):\n",
    "    if i==-1:\n",
    "        return #바닥조건 탈출조건 기저조건(base condtion)\n",
    "    else:\n",
    "        print(arr[i], end='')\n",
    "        abc(arr,i-1)\n",
    "        print(arr[i],end='')\n",
    "        return\n",
    "\n",
    "abc([3,7,4,1,9,4,6,2],3)"
   ]
  },
  {
   "cell_type": "markdown",
   "metadata": {},
   "source": [
    "함수에 매번 들어갈때는 F7"
   ]
  },
  {
   "cell_type": "markdown",
   "metadata": {},
   "source": [
    "## 본 수업 (재귀2)"
   ]
  },
  {
   "cell_type": "code",
   "execution_count": null,
   "metadata": {},
   "outputs": [],
   "source": [
    "def abc(level):\n",
    "    if level==2:\n",
    "        return\n",
    "    else:\n",
    "        abc(level + 1) #왼\n",
    "        abc(level + 1) #가운데\n",
    "        abc(level + 1) #오\n",
    "        return\n",
    "\n",
    "abc(0)"
   ]
  },
  {
   "cell_type": "code",
   "execution_count": null,
   "metadata": {},
   "outputs": [],
   "source": [
    "#던전 트레이스 path연습!!!\n",
    "path=[0,0,0,0,0,0,0,0]\n",
    "\n",
    "def abc(level):\n",
    "    if level==2: \n",
    "        for i in range(level):\n",
    "            print(path[i], end='')\n",
    "        return\n",
    "    else:\n",
    "        path[level] = 'L'\n",
    "        abc(level+1) #왼\n",
    "\n",
    "        path[level] = 'R'\n",
    "        abc(level+1) #오\n",
    "        path[level]=0\n",
    "        return\n",
    "\n",
    "abc(0)"
   ]
  },
  {
   "cell_type": "markdown",
   "metadata": {},
   "source": [
    "클래스 시작\n",
    "\n",
    "속성,매소드"
   ]
  },
  {
   "cell_type": "code",
   "execution_count": null,
   "metadata": {},
   "outputs": [],
   "source": [
    "class Dog:\n",
    "    sex='MALE'\n",
    "    def __init__(self, name,age,weight):\n",
    "        self.name=name\n",
    "        self.age=age\n",
    "        self.weight=weight\n",
    "\n",
    "    def shout(self):\n",
    "        print(f\"{self.name} 멍멍\")\n",
    "\n",
    "    def run(self):\n",
    "        print(f\"{self.name}가 달린다\")\n",
    "\n",
    "    def eat(self):\n",
    "        print(f\"{self.name}가 먹는다\")\n",
    "\n",
    "\n",
    "미키 = Dog('미키', 13, 9)\n",
    "미키.shout()"
   ]
  },
  {
   "cell_type": "markdown",
   "metadata": {},
   "source": [
    "### 숙제 \n",
    "\n",
    "1. 아래 코드 트레이스\n",
    "\n",
    "```def abc(level):\n",
    "    if level == 3:  # [0][1][2].....[n-1] path가 채워져 있다.\n",
    "        #level=3에 도달하면 path를 출력\n",
    "        for i in range(3):\n",
    "            print(path[i], end=' ')\n",
    "        print()\n",
    "        return\n",
    "\n",
    "    else:\n",
    "        for i in range(1, 6 + 1):\n",
    "            #새로운 level로 가기전 path에 기록\n",
    "            path[level] = i\n",
    "            abc(level + 1)\n",
    "            path[level] = 0  # 원상복구\n",
    "        return\n",
    "\n",
    "\n",
    "path = [0, 0, 0, 0, 0, 0, 0, 0]\n",
    "\n",
    "abc(0)\n",
    "```"
   ]
  },
  {
   "cell_type": "markdown",
   "metadata": {},
   "source": [
    "(http://jungol.co.kr/bbs/board.php?bo_table=pbank&wr_id=589&sca=2080)\n",
    "1부터 어떤 양의 정수 n까지의 정수를 모두 곱한 것을 말하며 n!로 나타낸다.\n",
    "\n",
    "\n",
    "0! = 1\n",
    "\n",
    "1! = 1\n",
    "\n",
    "2! = 2\n",
    "\n",
    "n! = n * (n-1)!\n",
    "\n",
    "：\n",
    "\n",
    "와 같이 정의된다.\n",
    "\n",
    " \n",
    "\n",
    "예로 4! = 4×3×2×1 = 24 이다.\n",
    "\n",
    " \n",
    "\n",
    "n! 이 주어졌을 때 결과를 출력하는 프로그램을 작성하라.\n",
    "\n",
    " \n",
    "\n",
    "* 결과가 int범위를 넘는 경우 \n",
    "\n",
    "자료형 long long \n",
    "\n",
    "입력/출력 서식문자 %lld \n",
    "\n",
    "를 사용한다."
   ]
  },
  {
   "cell_type": "code",
   "execution_count": null,
   "metadata": {},
   "outputs": [],
   "source": [
    "#1부터 어떤 양의 정수 n까지의 정수를 모두 곱한 것을 말하며 n!로 나타낸다\n",
    "\n",
    "result=1\n",
    "\n",
    "def abc(x):\n",
    "    if x==0:\n",
    "        return\n",
    "    else:\n",
    "        global result *= x\n",
    "        abc(x-1)\n",
    "\n",
    "\n",
    "abc(3)"
   ]
  }
 ],
 "metadata": {
  "kernelspec": {
   "display_name": "Python 3",
   "language": "python",
   "name": "python3"
  },
  "language_info": {
   "codemirror_mode": {
    "name": "ipython",
    "version": 3
   },
   "file_extension": ".py",
   "mimetype": "text/x-python",
   "name": "python",
   "nbconvert_exporter": "python",
   "pygments_lexer": "ipython3",
   "version": "3.7.4"
  }
 },
 "nbformat": 4,
 "nbformat_minor": 4
}
